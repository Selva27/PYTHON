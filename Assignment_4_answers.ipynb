{
 "cells": [
  {
   "cell_type": "code",
   "execution_count": null,
   "id": "8c01304f",
   "metadata": {},
   "outputs": [],
   "source": [
    "# 1.What exactly is []?\n",
    "# Ans: Square brackets are used to create a list. A list can have heterogenous values."
   ]
  },
  {
   "cell_type": "code",
   "execution_count": 4,
   "id": "7a2bec6e",
   "metadata": {},
   "outputs": [
    {
     "data": {
      "text/plain": [
       "[2, 4, 'hello', 8, 10]"
      ]
     },
     "execution_count": 4,
     "metadata": {},
     "output_type": "execute_result"
    }
   ],
   "source": [
    "# 2. In a list of values stored in a variable called spam, how would you assign the value 'hello' as the third value? \n",
    "# (Assume [2, 4, 6, 8, 10] are in spam.)\n",
    "\n",
    "l = [2,4,6,8,10]\n",
    "l[2] = 'hello'\n",
    "l"
   ]
  },
  {
   "cell_type": "code",
   "execution_count": 7,
   "id": "9489363d",
   "metadata": {},
   "outputs": [
    {
     "data": {
      "text/plain": [
       "[2, 4, 'hello', 8, 10]"
      ]
     },
     "execution_count": 7,
     "metadata": {},
     "output_type": "execute_result"
    }
   ],
   "source": [
    "def assign_value(a,b):\n",
    "    \"\"\"assign user provided value to a list in user provided position\"\"\"\n",
    "    l = [2,4,6,8,10]\n",
    "    for i in range(len(l)):\n",
    "        if i == b:\n",
    "            l[i] = a\n",
    "    return l\n",
    "\n",
    "assign_value('hello',2)"
   ]
  },
  {
   "cell_type": "code",
   "execution_count": 9,
   "id": "338399ef",
   "metadata": {},
   "outputs": [
    {
     "data": {
      "text/plain": [
       "'d'"
      ]
     },
     "execution_count": 9,
     "metadata": {},
     "output_type": "execute_result"
    }
   ],
   "source": [
    "# Let's pretend the spam includes the list ['a', 'b', 'c', 'd'] for the next three queries.\n",
    "# 3. What is the value of spam[int(int('3' * 2) / 11)]?\n",
    "\n",
    "spam = ['a', 'b', 'c', 'd']\n",
    "spam[int(int('3' * 2) / 11)]  # 33/11 = 3 .... spam[3] = 'd'"
   ]
  },
  {
   "cell_type": "code",
   "execution_count": 12,
   "id": "8891f73a",
   "metadata": {},
   "outputs": [
    {
     "data": {
      "text/plain": [
       "'d'"
      ]
     },
     "execution_count": 12,
     "metadata": {},
     "output_type": "execute_result"
    }
   ],
   "source": [
    "# 4. What is the value of spam[-1]?\n",
    "\n",
    "spam[-1] # prints the last value in list"
   ]
  },
  {
   "cell_type": "code",
   "execution_count": 24,
   "id": "8d1f1d4f",
   "metadata": {},
   "outputs": [
    {
     "data": {
      "text/plain": [
       "['a', 'b']"
      ]
     },
     "execution_count": 24,
     "metadata": {},
     "output_type": "execute_result"
    }
   ],
   "source": [
    "# 5. What is the value of spam[:2]?\n",
    "\n",
    "spam[:2]"
   ]
  },
  {
   "cell_type": "code",
   "execution_count": null,
   "id": "133ada5d",
   "metadata": {},
   "outputs": [],
   "source": [
    "# Let's pretend bacon has the list [3.14, 'cat,' 11, 'cat,' True] for the next three questions."
   ]
  },
  {
   "cell_type": "code",
   "execution_count": 35,
   "id": "22018af6",
   "metadata": {},
   "outputs": [
    {
     "data": {
      "text/plain": [
       "1"
      ]
     },
     "execution_count": 35,
     "metadata": {},
     "output_type": "execute_result"
    }
   ],
   "source": [
    "# 6. What is the value of bacon.index('cat')?\n",
    "bacon = [3.14, 'cat', 11, 'cat', True]\n",
    "\n",
    "bacon.index('cat')"
   ]
  },
  {
   "cell_type": "code",
   "execution_count": 36,
   "id": "3e06e389",
   "metadata": {},
   "outputs": [
    {
     "data": {
      "text/plain": [
       "[3.14, 'cat', 11, 'cat', True, 99]"
      ]
     },
     "execution_count": 36,
     "metadata": {},
     "output_type": "execute_result"
    }
   ],
   "source": [
    "# 7. How does bacon.append(99) change the look of the list value in bacon?\n",
    "\n",
    "bacon.append(99)\n",
    "\n",
    "bacon"
   ]
  },
  {
   "cell_type": "code",
   "execution_count": 37,
   "id": "c0827f86",
   "metadata": {},
   "outputs": [],
   "source": [
    "# 8. How does bacon.remove('cat') change the look of the list in bacon?\n",
    "\n",
    "bacon.remove('cat') # removes the first occurence of 'cat'"
   ]
  },
  {
   "cell_type": "code",
   "execution_count": 38,
   "id": "fb5d782d",
   "metadata": {},
   "outputs": [
    {
     "data": {
      "text/plain": [
       "[3.14, 11, 'cat', True, 99]"
      ]
     },
     "execution_count": 38,
     "metadata": {},
     "output_type": "execute_result"
    }
   ],
   "source": [
    "bacon"
   ]
  },
  {
   "cell_type": "code",
   "execution_count": null,
   "id": "0eaed2ce",
   "metadata": {},
   "outputs": [],
   "source": [
    "# 9. What are the list concatenation and list replication operators?\n"
   ]
  },
  {
   "cell_type": "code",
   "execution_count": 56,
   "id": "0b6aea20",
   "metadata": {},
   "outputs": [],
   "source": [
    "l1 = [1,2,3,4,5]\n",
    "l2 = [6,7,8,9]"
   ]
  },
  {
   "cell_type": "code",
   "execution_count": 55,
   "id": "a9e2f5b3",
   "metadata": {},
   "outputs": [
    {
     "data": {
      "text/plain": [
       "[1, 2, 3, 4, 5, 6, 7, 8, 9]"
      ]
     },
     "execution_count": 55,
     "metadata": {},
     "output_type": "execute_result"
    }
   ],
   "source": [
    "# Option 1 - list concatenation\n",
    "l3 = l1+l2\n",
    "l3"
   ]
  },
  {
   "cell_type": "code",
   "execution_count": 44,
   "id": "11816ad4",
   "metadata": {},
   "outputs": [
    {
     "data": {
      "text/plain": [
       "[1, 2, 3, 4, 5, 6, 7, 8, 9]"
      ]
     },
     "execution_count": 44,
     "metadata": {},
     "output_type": "execute_result"
    }
   ],
   "source": [
    "# Option 2 - list concatenation\n",
    "new_list = [ y for x in [l1,l2] for y in x]\n",
    "new_list"
   ]
  },
  {
   "cell_type": "code",
   "execution_count": 49,
   "id": "d7b5ca0b",
   "metadata": {},
   "outputs": [
    {
     "data": {
      "text/plain": [
       "[1, 2, 3, 4, 5, 6, 7, 8, 9]"
      ]
     },
     "execution_count": 49,
     "metadata": {},
     "output_type": "execute_result"
    }
   ],
   "source": [
    "# Option 3 - list concatenation\n",
    "def append_list(a,b):\n",
    "    \"\"\"append 2 list\"\"\"\n",
    "    for i in b:\n",
    "        a.append(i)\n",
    "    return l1\n",
    "\n",
    "append_list(l1,l2)"
   ]
  },
  {
   "cell_type": "code",
   "execution_count": 57,
   "id": "c2b16e98",
   "metadata": {},
   "outputs": [
    {
     "data": {
      "text/plain": [
       "[1, 2, 3, 4, 5, 6, 7, 8, 9]"
      ]
     },
     "execution_count": 57,
     "metadata": {},
     "output_type": "execute_result"
    }
   ],
   "source": [
    "# Option 4 - list concatenation\n",
    "l1.extend(l2)\n",
    "l1"
   ]
  },
  {
   "cell_type": "code",
   "execution_count": 58,
   "id": "a45bbd29",
   "metadata": {},
   "outputs": [
    {
     "data": {
      "text/plain": [
       "[1, 2, 3, 4, 5, 6, 7, 8, 9, 1, 2, 3, 4, 5, 6, 7, 8, 9]"
      ]
     },
     "execution_count": 58,
     "metadata": {},
     "output_type": "execute_result"
    }
   ],
   "source": [
    "# Option 1 - list replication\n",
    "l1*2"
   ]
  },
  {
   "cell_type": "code",
   "execution_count": 81,
   "id": "6ba27240",
   "metadata": {},
   "outputs": [
    {
     "data": {
      "text/plain": [
       "[1, 2, 3, 1, 4, 5, 11]"
      ]
     },
     "execution_count": 81,
     "metadata": {},
     "output_type": "execute_result"
    }
   ],
   "source": [
    "# 10. What is difference between the list methods append() and insert()?\n",
    "l1 = [1,2,3,4,5]\n",
    "l1.append(11) # appends a value to the end of list\n",
    "l1\n",
    "l1.insert(3,1) # takes values as index(3) and actual value(1) to be inserted in the index position\n",
    "l1"
   ]
  },
  {
   "cell_type": "code",
   "execution_count": 82,
   "id": "aed9f25c",
   "metadata": {},
   "outputs": [
    {
     "name": "stdout",
     "output_type": "stream",
     "text": [
      "[1, 2, 3, 1, 4, 5, 11]\n",
      "[1, 2, 3, 4, 5, 11]\n"
     ]
    }
   ],
   "source": [
    "# 11. What are the two methods for removing items from a list?\n",
    "print(l1)\n",
    "l1.pop(3) # takes index as input parameter\n",
    "print(l1)"
   ]
  },
  {
   "cell_type": "code",
   "execution_count": 83,
   "id": "e35ca578",
   "metadata": {},
   "outputs": [
    {
     "name": "stdout",
     "output_type": "stream",
     "text": [
      "[1, 2, 3, 4, 5, 11]\n",
      "[1, 2, 3, 5, 11]\n"
     ]
    }
   ],
   "source": [
    "print(l1)\n",
    "l1.remove(4) # takes value as input parameter\n",
    "print(l1)"
   ]
  },
  {
   "cell_type": "code",
   "execution_count": 89,
   "id": "c33eac56",
   "metadata": {},
   "outputs": [
    {
     "data": {
      "text/plain": [
       "(['s', 't', 'r', 'i', 'n', 'g', 's'], \"['s', 't', 'r', 'i', 'n', 'g']\")"
      ]
     },
     "execution_count": 89,
     "metadata": {},
     "output_type": "execute_result"
    }
   ],
   "source": [
    "# 12. Describe how list values and string values are identical.\n",
    "\"\"\"Both are iterable as shown below\"\"\"\n",
    "a = 'strings'\n",
    "b = ['s','t','r','i','n','g']\n",
    "l3 = []\n",
    "for i in a:\n",
    "    l3.extend(i)\n",
    "l3,str(b)"
   ]
  },
  {
   "cell_type": "code",
   "execution_count": null,
   "id": "b073c752",
   "metadata": {},
   "outputs": [],
   "source": [
    "# 13. What's the difference between tuples and lists?\n",
    "# Tuple is immutable ..... List is mutable\n",
    "# Tuples are time and memory efficient over list"
   ]
  },
  {
   "cell_type": "code",
   "execution_count": 91,
   "id": "6a5b5a6c",
   "metadata": {},
   "outputs": [
    {
     "data": {
      "text/plain": [
       "tuple"
      ]
     },
     "execution_count": 91,
     "metadata": {},
     "output_type": "execute_result"
    }
   ],
   "source": [
    "# 14. How do you type a tuple value that only contains the integer 42?\n",
    "t1 = (42,)\n",
    "type(t1)"
   ]
  },
  {
   "cell_type": "code",
   "execution_count": 97,
   "id": "45b6ec14",
   "metadata": {},
   "outputs": [
    {
     "name": "stdout",
     "output_type": "stream",
     "text": [
      "tuple =  (1, 2, 3, 4, 5) list =  [6, 7, 8, 9]\n"
     ]
    }
   ],
   "source": [
    "# 15. How do you get a list value's tuple form? How do you get a tuple value's list form?\n",
    "l5 = [1,2,3,4,5]\n",
    "t2 = tuple(l5)\n",
    "t3 = (6,7,8,9)\n",
    "l6 = list(t3)\n",
    "print(\"tuple = \",t2,\"list = \",l6)"
   ]
  },
  {
   "cell_type": "code",
   "execution_count": null,
   "id": "a37c26a8",
   "metadata": {},
   "outputs": [],
   "source": [
    "# 16. Variables that \"contain\" list values are not necessarily lists themselves. Instead, what do they contain?\n",
    "    # Ans: They contain references(index) to the list variable"
   ]
  },
  {
   "cell_type": "code",
   "execution_count": null,
   "id": "e46d81c6",
   "metadata": {},
   "outputs": [],
   "source": [
    "# 17. How do you distinguish between copy.copy() and copy.deepcopy()?\n",
    "\n",
    "# copy() is shallow copy and link with original list prevails.So any change in copy is reflected in original."
   ]
  },
  {
   "cell_type": "code",
   "execution_count": null,
   "id": "77de3917",
   "metadata": {},
   "outputs": [],
   "source": [
    "# deep copy - change in replicated value will not affect original value"
   ]
  },
  {
   "cell_type": "code",
   "execution_count": null,
   "id": "ad9af203",
   "metadata": {},
   "outputs": [],
   "source": []
  },
  {
   "cell_type": "code",
   "execution_count": null,
   "id": "3170fd94",
   "metadata": {},
   "outputs": [],
   "source": []
  },
  {
   "cell_type": "code",
   "execution_count": null,
   "id": "3cef9aff",
   "metadata": {},
   "outputs": [],
   "source": []
  }
 ],
 "metadata": {
  "kernelspec": {
   "display_name": "Python 3 (ipykernel)",
   "language": "python",
   "name": "python3"
  },
  "language_info": {
   "codemirror_mode": {
    "name": "ipython",
    "version": 3
   },
   "file_extension": ".py",
   "mimetype": "text/x-python",
   "name": "python",
   "nbconvert_exporter": "python",
   "pygments_lexer": "ipython3",
   "version": "3.9.7"
  }
 },
 "nbformat": 4,
 "nbformat_minor": 5
}
